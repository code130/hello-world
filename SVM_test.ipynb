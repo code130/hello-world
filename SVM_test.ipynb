{
  "nbformat": 4,
  "nbformat_minor": 0,
  "metadata": {
    "colab": {
      "name": "SVM_test.ipynb",
      "provenance": [],
      "collapsed_sections": [],
      "authorship_tag": "ABX9TyMOYp3uTgTC0052uhQzjENH",
      "include_colab_link": true
    },
    "kernelspec": {
      "name": "python3",
      "display_name": "Python 3"
    },
    "language_info": {
      "name": "python"
    }
  },
  "cells": [
    {
      "cell_type": "markdown",
      "metadata": {
        "id": "view-in-github",
        "colab_type": "text"
      },
      "source": [
        "<a href=\"https://colab.research.google.com/github/code130/hello-world/blob/master/SVM_test.ipynb\" target=\"_parent\"><img src=\"https://colab.research.google.com/assets/colab-badge.svg\" alt=\"Open In Colab\"/></a>"
      ]
    },
    {
      "cell_type": "code",
      "metadata": {
        "colab": {
          "base_uri": "https://localhost:8080/"
        },
        "id": "CETU3aVF9b3V",
        "outputId": "102d7979-e4bb-4eeb-e38d-3f8c51230592"
      },
      "source": [
        "from google.colab import drive\n",
        "drive.mount('/content/drive/')"
      ],
      "execution_count": 1,
      "outputs": [
        {
          "output_type": "stream",
          "text": [
            "Mounted at /content/drive/\n"
          ],
          "name": "stdout"
        }
      ]
    },
    {
      "cell_type": "code",
      "metadata": {
        "id": "Zl6vwSJT9nbF"
      },
      "source": [
        "from numpy.random import seed\n",
        "from sklearn.preprocessing import minmax_scale\n",
        "from sklearn.model_selection import train_test_split\n",
        "from keras.layers import Input, Dense\n",
        "from keras.models import Model\n",
        "import pandas as pd\n",
        "from numpy.random import seed\n",
        "from sklearn.preprocessing import minmax_scale\n",
        "GENOMICS_DATA_URL = '/content/drive/MyDrive/SSI Project/datasets/gene_expression/source/Breast_GSE70947.csv'\n",
        "data_frame = pd.read_csv(GENOMICS_DATA_URL)\n",
        "\n",
        "\n",
        "data_frame = data_frame.drop(columns=\"samples\")\n",
        "#display(data_frame)"
      ],
      "execution_count": 2,
      "outputs": []
    },
    {
      "cell_type": "code",
      "metadata": {
        "id": "WclqzhSM9sjW",
        "colab": {
          "base_uri": "https://localhost:8080/",
          "height": 442
        },
        "outputId": "f87c96a3-329c-4129-d4fb-8173c0da824c"
      },
      "source": [
        "y = data_frame['type']\n",
        "display(y)\n",
        "\n",
        "df_x = data_frame.iloc[:,2:].values\n",
        "display(df_x)"
      ],
      "execution_count": 3,
      "outputs": [
        {
          "output_type": "display_data",
          "data": {
            "text/plain": [
              "0                     normal\n",
              "1                     normal\n",
              "2                     normal\n",
              "3                     normal\n",
              "4                     normal\n",
              "               ...          \n",
              "284    breast_adenocarcinoma\n",
              "285    breast_adenocarcinoma\n",
              "286    breast_adenocarcinoma\n",
              "287    breast_adenocarcinoma\n",
              "288    breast_adenocarcinoma\n",
              "Name: type, Length: 289, dtype: object"
            ]
          },
          "metadata": {
            "tags": []
          }
        },
        {
          "output_type": "display_data",
          "data": {
            "text/plain": [
              "array([[ 7.71801596,  6.04443769, 10.74707702, ...,  8.96943885,\n",
              "         4.98569278,  5.09049955],\n",
              "       [ 7.07223164,  6.97674149, 10.42967138, ...,  8.17448935,\n",
              "         4.46417694,  4.53689133],\n",
              "       [ 7.96457276,  6.26905517, 10.82502492, ...,  8.4734676 ,\n",
              "         4.66844655,  5.08412743],\n",
              "       ...,\n",
              "       [ 7.65189288,  5.8456198 , 11.73525745, ...,  8.75907992,\n",
              "         4.55673743,  4.62711686],\n",
              "       [ 8.09668189,  6.35538709, 11.55609033, ...,  9.65815497,\n",
              "         4.51579939,  4.5833562 ],\n",
              "       [ 7.53889842,  6.36455742, 11.86137988, ...,  9.73935803,\n",
              "         4.95241565,  4.77099256]])"
            ]
          },
          "metadata": {
            "tags": []
          }
        }
      ]
    },
    {
      "cell_type": "code",
      "metadata": {
        "id": "P0in0vnB9vwC"
      },
      "source": [
        "df_x_scaled = minmax_scale(df_x, axis = 0)"
      ],
      "execution_count": 4,
      "outputs": []
    },
    {
      "cell_type": "code",
      "metadata": {
        "colab": {
          "base_uri": "https://localhost:8080/"
        },
        "id": "tzwGUeyw9ztu",
        "outputId": "fa5ec706-5630-429f-9f58-39ac9353cd1a"
      },
      "source": [
        "# define the number of features\n",
        "ncol = df_x_scaled.shape[1]\n",
        "ncol"
      ],
      "execution_count": 5,
      "outputs": [
        {
          "output_type": "execute_result",
          "data": {
            "text/plain": [
              "35980"
            ]
          },
          "metadata": {
            "tags": []
          },
          "execution_count": 5
        }
      ]
    },
    {
      "cell_type": "code",
      "metadata": {
        "id": "el5Oiwm494aH"
      },
      "source": [
        "X_train, X_test, Y_train, Y_test = train_test_split(df_x_scaled, y, train_size = 0.8, random_state = seed(2052))"
      ],
      "execution_count": 6,
      "outputs": []
    },
    {
      "cell_type": "code",
      "metadata": {
        "id": "O2dq5MIU-BKE"
      },
      "source": [
        "from sklearn import svm\n",
        "# define the model\n",
        "\n",
        "#Create a svm Classifier\n",
        "clf = svm.SVC(kernel='linear') # Linear Kernel\n",
        "\n",
        "#Train the model using the training sets\n",
        "clf.fit(X_train, Y_train)\n",
        "\n",
        "#Predict the response for test dataset\n",
        "y_pred = clf.predict(X_test)\n",
        "\n",
        "\n"
      ],
      "execution_count": 7,
      "outputs": []
    },
    {
      "cell_type": "code",
      "metadata": {
        "colab": {
          "base_uri": "https://localhost:8080/",
          "height": 68
        },
        "id": "luhLcGoV-IK4",
        "outputId": "d56f4a13-3798-4ade-9dad-8b920b5f2f19"
      },
      "source": [
        "#Import scikit-learn metrics module for accuracy calculation\n",
        "from sklearn import metrics\n",
        "\n",
        "# Model Accuracy: how often is the classifier correct?\n",
        "print(\"Accuracy:\",metrics.accuracy_score(Y_test, y_pred))\n",
        "display(Y_test.shape)\n",
        "y_pred.shape"
      ],
      "execution_count": 8,
      "outputs": [
        {
          "output_type": "stream",
          "text": [
            "Accuracy: 0.9655172413793104\n"
          ],
          "name": "stdout"
        },
        {
          "output_type": "display_data",
          "data": {
            "text/plain": [
              "(58,)"
            ]
          },
          "metadata": {
            "tags": []
          }
        },
        {
          "output_type": "execute_result",
          "data": {
            "text/plain": [
              "(58,)"
            ]
          },
          "metadata": {
            "tags": []
          },
          "execution_count": 8
        }
      ]
    },
    {
      "cell_type": "code",
      "metadata": {
        "id": "vZNUgPDaZrIA"
      },
      "source": [
        "from sklearn.metrics import confusion_matrix"
      ],
      "execution_count": 9,
      "outputs": []
    },
    {
      "cell_type": "code",
      "metadata": {
        "colab": {
          "base_uri": "https://localhost:8080/",
          "height": 51
        },
        "id": "Qs4Fl8iuZvgh",
        "outputId": "579dcde0-91ac-43d9-94ed-a1ed07367c27"
      },
      "source": [
        "prediction_train = clf.predict(X_train)\n",
        "display(confusion_matrix(Y_train, prediction_train))"
      ],
      "execution_count": 10,
      "outputs": [
        {
          "output_type": "display_data",
          "data": {
            "text/plain": [
              "array([[118,   0],\n",
              "       [  0, 113]])"
            ]
          },
          "metadata": {
            "tags": []
          }
        }
      ]
    },
    {
      "cell_type": "code",
      "metadata": {
        "colab": {
          "base_uri": "https://localhost:8080/",
          "height": 51
        },
        "id": "cPhUUwU7Z_NG",
        "outputId": "b6198768-87d4-4c36-87a9-7db252d0ebe8"
      },
      "source": [
        "prediction_test = clf.predict(X_test)\n",
        "display(confusion_matrix(Y_test, prediction_test))"
      ],
      "execution_count": 11,
      "outputs": [
        {
          "output_type": "display_data",
          "data": {
            "text/plain": [
              "array([[24,  1],\n",
              "       [ 1, 32]])"
            ]
          },
          "metadata": {
            "tags": []
          }
        }
      ]
    }
  ]
}