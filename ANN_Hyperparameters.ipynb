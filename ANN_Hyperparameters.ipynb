{
  "nbformat": 4,
  "nbformat_minor": 0,
  "metadata": {
    "colab": {
      "name": "ANN_Hyperparameters.ipynb",
      "provenance": [],
      "collapsed_sections": [],
      "include_colab_link": true
    },
    "kernelspec": {
      "name": "python3",
      "display_name": "Python 3"
    },
    "language_info": {
      "name": "python"
    },
    "accelerator": "TPU"
  },
  "cells": [
    {
      "cell_type": "markdown",
      "metadata": {
        "id": "view-in-github",
        "colab_type": "text"
      },
      "source": [
        "<a href=\"https://colab.research.google.com/github/code130/hello-world/blob/master/ANN_Hyperparameters.ipynb\" target=\"_parent\"><img src=\"https://colab.research.google.com/assets/colab-badge.svg\" alt=\"Open In Colab\"/></a>"
      ]
    },
    {
      "cell_type": "code",
      "metadata": {
        "id": "WvQ_X6JTtMcJ",
        "colab": {
          "base_uri": "https://localhost:8080/"
        },
        "outputId": "90e828fd-1ebb-44c0-c56c-240202de4af8"
      },
      "source": [
        "from google.colab import drive\n",
        "drive.mount('/content/drive/')"
      ],
      "execution_count": 2,
      "outputs": [
        {
          "output_type": "stream",
          "text": [
            "Mounted at /content/drive/\n"
          ],
          "name": "stdout"
        }
      ]
    },
    {
      "cell_type": "code",
      "metadata": {
        "id": "j0EXxFtOmF1B"
      },
      "source": [
        "pip install keras-tuner"
      ],
      "execution_count": null,
      "outputs": []
    },
    {
      "cell_type": "code",
      "metadata": {
        "colab": {
          "base_uri": "https://localhost:8080/"
        },
        "id": "gO3Rbev4Lxvq",
        "outputId": "47bb7ece-4c3e-4a3a-b1a9-42796725a415"
      },
      "source": [
        "pip install keras_tuner"
      ],
      "execution_count": 89,
      "outputs": [
        {
          "output_type": "stream",
          "text": [
            "Requirement already satisfied: keras_tuner in /usr/local/lib/python3.7/dist-packages (1.0.3)\n",
            "Requirement already satisfied: kt-legacy in /usr/local/lib/python3.7/dist-packages (from keras_tuner) (1.0.3)\n",
            "Requirement already satisfied: requests in /usr/local/lib/python3.7/dist-packages (from keras_tuner) (2.23.0)\n",
            "Requirement already satisfied: scipy in /usr/local/lib/python3.7/dist-packages (from keras_tuner) (1.4.1)\n",
            "Requirement already satisfied: packaging in /usr/local/lib/python3.7/dist-packages (from keras_tuner) (21.0)\n",
            "Requirement already satisfied: ipython in /usr/local/lib/python3.7/dist-packages (from keras_tuner) (5.5.0)\n",
            "Requirement already satisfied: numpy in /usr/local/lib/python3.7/dist-packages (from keras_tuner) (1.19.5)\n",
            "Requirement already satisfied: tensorboard in /usr/local/lib/python3.7/dist-packages (from keras_tuner) (2.5.0)\n",
            "Requirement already satisfied: traitlets>=4.2 in /usr/local/lib/python3.7/dist-packages (from ipython->keras_tuner) (5.0.5)\n",
            "Requirement already satisfied: pickleshare in /usr/local/lib/python3.7/dist-packages (from ipython->keras_tuner) (0.7.5)\n",
            "Requirement already satisfied: decorator in /usr/local/lib/python3.7/dist-packages (from ipython->keras_tuner) (4.4.2)\n",
            "Requirement already satisfied: pygments in /usr/local/lib/python3.7/dist-packages (from ipython->keras_tuner) (2.6.1)\n",
            "Requirement already satisfied: pexpect in /usr/local/lib/python3.7/dist-packages (from ipython->keras_tuner) (4.8.0)\n",
            "Requirement already satisfied: prompt-toolkit<2.0.0,>=1.0.4 in /usr/local/lib/python3.7/dist-packages (from ipython->keras_tuner) (1.0.18)\n",
            "Requirement already satisfied: setuptools>=18.5 in /usr/local/lib/python3.7/dist-packages (from ipython->keras_tuner) (57.2.0)\n",
            "Requirement already satisfied: simplegeneric>0.8 in /usr/local/lib/python3.7/dist-packages (from ipython->keras_tuner) (0.8.1)\n",
            "Requirement already satisfied: wcwidth in /usr/local/lib/python3.7/dist-packages (from prompt-toolkit<2.0.0,>=1.0.4->ipython->keras_tuner) (0.2.5)\n",
            "Requirement already satisfied: six>=1.9.0 in /usr/local/lib/python3.7/dist-packages (from prompt-toolkit<2.0.0,>=1.0.4->ipython->keras_tuner) (1.15.0)\n",
            "Requirement already satisfied: ipython-genutils in /usr/local/lib/python3.7/dist-packages (from traitlets>=4.2->ipython->keras_tuner) (0.2.0)\n",
            "Requirement already satisfied: pyparsing>=2.0.2 in /usr/local/lib/python3.7/dist-packages (from packaging->keras_tuner) (2.4.7)\n",
            "Requirement already satisfied: ptyprocess>=0.5 in /usr/local/lib/python3.7/dist-packages (from pexpect->ipython->keras_tuner) (0.7.0)\n",
            "Requirement already satisfied: certifi>=2017.4.17 in /usr/local/lib/python3.7/dist-packages (from requests->keras_tuner) (2021.5.30)\n",
            "Requirement already satisfied: idna<3,>=2.5 in /usr/local/lib/python3.7/dist-packages (from requests->keras_tuner) (2.10)\n",
            "Requirement already satisfied: chardet<4,>=3.0.2 in /usr/local/lib/python3.7/dist-packages (from requests->keras_tuner) (3.0.4)\n",
            "Requirement already satisfied: urllib3!=1.25.0,!=1.25.1,<1.26,>=1.21.1 in /usr/local/lib/python3.7/dist-packages (from requests->keras_tuner) (1.24.3)\n",
            "Requirement already satisfied: google-auth-oauthlib<0.5,>=0.4.1 in /usr/local/lib/python3.7/dist-packages (from tensorboard->keras_tuner) (0.4.4)\n",
            "Requirement already satisfied: markdown>=2.6.8 in /usr/local/lib/python3.7/dist-packages (from tensorboard->keras_tuner) (3.3.4)\n",
            "Requirement already satisfied: grpcio>=1.24.3 in /usr/local/lib/python3.7/dist-packages (from tensorboard->keras_tuner) (1.34.1)\n",
            "Requirement already satisfied: wheel>=0.26 in /usr/local/lib/python3.7/dist-packages (from tensorboard->keras_tuner) (0.36.2)\n",
            "Requirement already satisfied: tensorboard-data-server<0.7.0,>=0.6.0 in /usr/local/lib/python3.7/dist-packages (from tensorboard->keras_tuner) (0.6.1)\n",
            "Requirement already satisfied: google-auth<2,>=1.6.3 in /usr/local/lib/python3.7/dist-packages (from tensorboard->keras_tuner) (1.32.1)\n",
            "Requirement already satisfied: werkzeug>=0.11.15 in /usr/local/lib/python3.7/dist-packages (from tensorboard->keras_tuner) (1.0.1)\n",
            "Requirement already satisfied: protobuf>=3.6.0 in /usr/local/lib/python3.7/dist-packages (from tensorboard->keras_tuner) (3.17.3)\n",
            "Requirement already satisfied: absl-py>=0.4 in /usr/local/lib/python3.7/dist-packages (from tensorboard->keras_tuner) (0.12.0)\n",
            "Requirement already satisfied: tensorboard-plugin-wit>=1.6.0 in /usr/local/lib/python3.7/dist-packages (from tensorboard->keras_tuner) (1.8.0)\n",
            "Requirement already satisfied: pyasn1-modules>=0.2.1 in /usr/local/lib/python3.7/dist-packages (from google-auth<2,>=1.6.3->tensorboard->keras_tuner) (0.2.8)\n",
            "Requirement already satisfied: rsa<5,>=3.1.4 in /usr/local/lib/python3.7/dist-packages (from google-auth<2,>=1.6.3->tensorboard->keras_tuner) (4.7.2)\n",
            "Requirement already satisfied: cachetools<5.0,>=2.0.0 in /usr/local/lib/python3.7/dist-packages (from google-auth<2,>=1.6.3->tensorboard->keras_tuner) (4.2.2)\n",
            "Requirement already satisfied: requests-oauthlib>=0.7.0 in /usr/local/lib/python3.7/dist-packages (from google-auth-oauthlib<0.5,>=0.4.1->tensorboard->keras_tuner) (1.3.0)\n",
            "Requirement already satisfied: importlib-metadata in /usr/local/lib/python3.7/dist-packages (from markdown>=2.6.8->tensorboard->keras_tuner) (4.6.1)\n",
            "Requirement already satisfied: pyasn1<0.5.0,>=0.4.6 in /usr/local/lib/python3.7/dist-packages (from pyasn1-modules>=0.2.1->google-auth<2,>=1.6.3->tensorboard->keras_tuner) (0.4.8)\n",
            "Requirement already satisfied: oauthlib>=3.0.0 in /usr/local/lib/python3.7/dist-packages (from requests-oauthlib>=0.7.0->google-auth-oauthlib<0.5,>=0.4.1->tensorboard->keras_tuner) (3.1.1)\n",
            "Requirement already satisfied: zipp>=0.5 in /usr/local/lib/python3.7/dist-packages (from importlib-metadata->markdown>=2.6.8->tensorboard->keras_tuner) (3.5.0)\n",
            "Requirement already satisfied: typing-extensions>=3.6.4 in /usr/local/lib/python3.7/dist-packages (from importlib-metadata->markdown>=2.6.8->tensorboard->keras_tuner) (3.7.4.3)\n"
          ],
          "name": "stdout"
        }
      ]
    },
    {
      "cell_type": "code",
      "metadata": {
        "id": "lwb5H238FJPn"
      },
      "source": [
        "from numpy.random import seed\n",
        "from sklearn.preprocessing import minmax_scale\n",
        "from sklearn.model_selection import train_test_split\n",
        "\n",
        "from tensorflow.keras import layers\n",
        "from tensorflow.keras.layers import Dense\n",
        "from numpy.random import seed\n",
        "from sklearn.preprocessing import minmax_scale\n",
        "from sklearn.model_selection import train_test_split\n",
        "from keras.layers import Input, Dense\n",
        "from keras.models import Model\n",
        "import pandas as pd\n",
        "from numpy.random import seed\n",
        "from sklearn.preprocessing import minmax_scale"
      ],
      "execution_count": 3,
      "outputs": []
    },
    {
      "cell_type": "code",
      "metadata": {
        "id": "Mkk56MzMFNCZ"
      },
      "source": [
        "import pandas as pd\n",
        "from numpy.random import seed\n",
        "from sklearn.preprocessing import minmax_scale\n",
        "GENOMICS_DATA_URL = '/content/drive/MyDrive/SSI Project/datasets/gene_expression/source/Breast_GSE70947.csv'\n",
        "data_frame = pd.read_csv(GENOMICS_DATA_URL)\n",
        "\n",
        "\n",
        "data_frame = data_frame.drop(columns=\"samples\")\n",
        "#display(data_frame)"
      ],
      "execution_count": 4,
      "outputs": []
    },
    {
      "cell_type": "code",
      "metadata": {
        "id": "2mQkvemZFS-R"
      },
      "source": [
        "y = data_frame['type']\n",
        "#display(y)\n",
        "\n",
        "df_x = data_frame.iloc[:,2:].values\n",
        "#display(df_x)"
      ],
      "execution_count": 36,
      "outputs": []
    },
    {
      "cell_type": "code",
      "metadata": {
        "id": "opYRjrMwFWft"
      },
      "source": [
        "df_x_scaled = minmax_scale(df_x, axis = 0)"
      ],
      "execution_count": 37,
      "outputs": []
    },
    {
      "cell_type": "code",
      "metadata": {
        "colab": {
          "base_uri": "https://localhost:8080/"
        },
        "id": "z6d4ICd2FXls",
        "outputId": "e87be53c-f219-452c-dbd7-c267bf7a1964"
      },
      "source": [
        "# define the number of features\n",
        "ncol = df_x_scaled.shape[1]\n",
        "ncol"
      ],
      "execution_count": 38,
      "outputs": [
        {
          "output_type": "execute_result",
          "data": {
            "text/plain": [
              "35980"
            ]
          },
          "metadata": {
            "tags": []
          },
          "execution_count": 38
        }
      ]
    },
    {
      "cell_type": "code",
      "metadata": {
        "id": "xRhR_IkfFeiP",
        "colab": {
          "base_uri": "https://localhost:8080/",
          "height": 221
        },
        "outputId": "2fb915ba-a92e-44e2-945b-bb181ec42353"
      },
      "source": [
        "X_train, X_test, Y_train, Y_test = train_test_split(df_x_scaled, y, train_size = 0.8, random_state = seed(2052))\n",
        "display(Y_train)"
      ],
      "execution_count": 39,
      "outputs": [
        {
          "output_type": "display_data",
          "data": {
            "text/plain": [
              "55                    normal\n",
              "37                    normal\n",
              "170    breast_adenocarcinoma\n",
              "199    breast_adenocarcinoma\n",
              "108                   normal\n",
              "               ...          \n",
              "192    breast_adenocarcinoma\n",
              "197    breast_adenocarcinoma\n",
              "166    breast_adenocarcinoma\n",
              "0                     normal\n",
              "205    breast_adenocarcinoma\n",
              "Name: type, Length: 231, dtype: object"
            ]
          },
          "metadata": {
            "tags": []
          }
        }
      ]
    },
    {
      "cell_type": "code",
      "metadata": {
        "id": "zrk8aLQfFjdC"
      },
      "source": [
        "input_df = Input(shape = (ncol, ))"
      ],
      "execution_count": 9,
      "outputs": []
    },
    {
      "cell_type": "code",
      "metadata": {
        "id": "iWnl33lRFubd"
      },
      "source": [
        "# Model configuration\n",
        "\n",
        "batch_size = 256\n",
        "no_epochs = 5\n",
        "validation_split = 0.2"
      ],
      "execution_count": 40,
      "outputs": []
    },
    {
      "cell_type": "markdown",
      "metadata": {
        "id": "lOq-7invjF1V"
      },
      "source": [
        "**Predict using Artificial Neural Network**"
      ]
    },
    {
      "cell_type": "code",
      "metadata": {
        "id": "e-ALQcm03qqX"
      },
      "source": [
        "from numpy import argmax\n",
        "from sklearn.preprocessing import LabelEncoder\n",
        "from sklearn.preprocessing import OneHotEncoder\n",
        "\n",
        "#print(Y_train)\n",
        "label_encoder = LabelEncoder()\n",
        "Y_train_enc = label_encoder.fit_transform(Y_train)\n",
        "Y_test_enc = label_encoder.fit_transform(Y_test)\n",
        "#print(Y_train_enc)\n",
        "\n",
        "\n"
      ],
      "execution_count": 41,
      "outputs": []
    },
    {
      "cell_type": "code",
      "metadata": {
        "colab": {
          "base_uri": "https://localhost:8080/"
        },
        "id": "HBP7-Hk4Jpml",
        "outputId": "cc36c579-6b0d-4e39-97b9-7ca3e2af976a"
      },
      "source": [
        "X_train.shape[1:]"
      ],
      "execution_count": 42,
      "outputs": [
        {
          "output_type": "execute_result",
          "data": {
            "text/plain": [
              "(35980,)"
            ]
          },
          "metadata": {
            "tags": []
          },
          "execution_count": 42
        }
      ]
    },
    {
      "cell_type": "code",
      "metadata": {
        "id": "fF4uySrDkhgj"
      },
      "source": [
        "import tensorflow as tf\n",
        "from tensorflow import keras\n",
        "import keras_tuner as kt\n",
        "from keras_tuner import HyperModel\n",
        "from tensorflow.keras.models import Sequential\n",
        "\n",
        "from keras_tuner.tuners import RandomSearch\n",
        "from keras_tuner.engine.hyperparameters import HyperParameters\n",
        "import time\n",
        "\n",
        "LOG_DIR = f\"{int(time.time())}\"\n",
        "\n",
        "def build_model(hp):\n",
        "    model = keras.models.Sequential()\n",
        "    for i in range(hp.Int('num_layers', 2, 20)):\n",
        "      model.add(layers.Dense(units=hp.Int('units_'+str(i), min_value=32, max_value=1024, step=32), activation='relu'))\n",
        "    model.add(layers.Dense(1, activation='sigmoid'))\n",
        "    hp_learning_rate = hp.Choice('learning_rate', values = [1e-2, 1e-3, 1e-4])\n",
        "    model.compile(optimizer = tf.keras.optimizers.Adam(learning_rate = hp_learning_rate),loss = 'mean_squared_error', metrics = ['accuracy'])\n",
        "\n",
        "    return model\n",
        "\n",
        "#**def build(hp):\n",
        "      #**model = keras.models.Sequential()  \n",
        "      # Tune the number of units in the first Dense layer\n",
        "      # Choose an optimal value between 32-512\n",
        "      #hp_units = hp.Int('units', min_value = 32, max_value = 512, step = 32)\n",
        "      #model.add(Dense(75, input_dim =input_shape, units = hp_units, activation = 'relu'))\n",
        "      #**model.add(Dense(hp.Int(\"input_units\",min_value= 32, max_value = 256,step = 32), input_shape=X_train.shape[1:], activation='relu', ))\n",
        "\n",
        "      #**for i in range(hp.Int(\"n_layers\",1,4)):\n",
        "        #**model.add(Dense(hp.Int(f\"conv_{i}_units\",min_value= 32, max_value = 256,step = 32), activation='relu' ))\n",
        "\n",
        "      #model.add(Dense(25, activation='relu'))\n",
        "      #model.add(Dense(10, activation='relu'))      \n",
        "      #model.add(Dropout(rate=hp.Float('dropout_2',min_value=0.0,max_value=0.5,default=0.25,step=0.05,)))\n",
        "      #model.add(Dense(units=hp.Int( 'units',min_value=32,max_value=512,step=32,default=128 )))\n",
        "      #activation=hp.Choice('dense_activation',values=['relu', 'tanh', 'sigmoid'],default='relu')))\n",
        "      #model.add(Dropout(rate=hp.Float( 'dropout_3',min_value=0.0,max_value=0.5,default=0.25,step=0.05)))\n",
        "      #**model.add(Dense(1, activation='sigmoid'))\n",
        "\n",
        "      # Tune the learning rate for the optimizer \n",
        "      # Choose an optimal value from 0.01, 0.001, or 0.0001\n",
        "      #hp_learning_rate = hp.Choice('learning_rate', values = [1e-2, 1e-3, 1e-4]) \n",
        "      \n",
        "      #model.compile(optimizer = tf.keras.optimizers.Adam(learning_rate = hp_learning_rate),loss = tf.keras.losses.SparseCategoricalCrossentropy(from_logits = True), metrics = ['accuracy'])\n",
        "      #**model.compile(optimizer = 'adam',loss = 'mean_squared_error', metrics = ['accuracy'])\n",
        "      \n",
        "      #model.compile(loss='mean_squared_error', optimizer='adam', metrics=['accuracy'])\n",
        "\n",
        "      #**return model\n",
        "\n"
      ],
      "execution_count": 84,
      "outputs": []
    },
    {
      "cell_type": "code",
      "metadata": {
        "id": "WFOK2CLBJyXz"
      },
      "source": [
        "#model = build()"
      ],
      "execution_count": null,
      "outputs": []
    },
    {
      "cell_type": "code",
      "metadata": {
        "id": "TdkGtnn3Kpy4"
      },
      "source": [
        "#model.fit(X_train_enc, Y_train_enc, batch_size=64, epochs=5, validation_data =(X_test_enc, Y_test_enc) )"
      ],
      "execution_count": null,
      "outputs": []
    },
    {
      "cell_type": "code",
      "metadata": {
        "id": "_IZDpWnvMxD1"
      },
      "source": [
        "from keras_tuner.tuners import RandomSearch\n",
        "\n",
        "NUM_CLASSES = 10  \n",
        "\n",
        "HYPERBAND_MAX_EPOCHS = 40\n",
        "MAX_TRIALS = 20\n",
        "EXECUTION_PER_TRIAL = 3\n",
        "SEED=seed(2052)\n",
        "INPUT_SHAPE = input_df\n",
        "\n",
        "tuner = RandomSearch(build_model,objective='val_accuracy',seed=SEED,max_trials=MAX_TRIALS,executions_per_trial=EXECUTION_PER_TRIAL,directory=LOG_DIR)"
      ],
      "execution_count": 76,
      "outputs": []
    },
    {
      "cell_type": "code",
      "metadata": {
        "colab": {
          "base_uri": "https://localhost:8080/"
        },
        "id": "DBNWpwdvQ4H9",
        "outputId": "ff7fea58-8500-4f5e-bc95-99da6ca07d56"
      },
      "source": [
        "tuner.search(X_train, Y_train_enc, epochs =5, batch_size=64, validation_data=(X_test, Y_test_enc))"
      ],
      "execution_count": 77,
      "outputs": [
        {
          "output_type": "stream",
          "text": [
            "Trial 20 Complete [00h 00m 14s]\n",
            "val_accuracy: 0.8390804727872213\n",
            "\n",
            "Best val_accuracy So Far: 0.8793103496233622\n",
            "Total elapsed time: 00h 04m 39s\n",
            "INFO:tensorflow:Oracle triggered exit\n"
          ],
          "name": "stdout"
        }
      ]
    },
    {
      "cell_type": "code",
      "metadata": {
        "colab": {
          "base_uri": "https://localhost:8080/"
        },
        "id": "VKT4lIhrDMlb",
        "outputId": "37296c35-41de-4092-90e8-63fbe4b4b532"
      },
      "source": [
        "tuner.results_summary()"
      ],
      "execution_count": 79,
      "outputs": [
        {
          "output_type": "stream",
          "text": [
            "Results summary\n",
            "Results in 1627004469/untitled_project\n",
            "Showing 10 best trials\n",
            "Objective(name='val_accuracy', direction='max')\n",
            "Trial summary\n",
            "Hyperparameters:\n",
            "num_layers: 3\n",
            "units_0: 64\n",
            "units_1: 256\n",
            "learning_rate: 0.0001\n",
            "units_2: 256\n",
            "units_3: 480\n",
            "units_4: 320\n",
            "units_5: 64\n",
            "units_6: 320\n",
            "units_7: 32\n",
            "units_8: 64\n",
            "units_9: 384\n",
            "units_10: 256\n",
            "units_11: 416\n",
            "units_12: 160\n",
            "units_13: 384\n",
            "units_14: 448\n",
            "units_15: 96\n",
            "units_16: 64\n",
            "units_17: 480\n",
            "Score: 0.8793103496233622\n",
            "Trial summary\n",
            "Hyperparameters:\n",
            "num_layers: 9\n",
            "units_0: 352\n",
            "units_1: 352\n",
            "learning_rate: 0.0001\n",
            "units_2: 512\n",
            "units_3: 192\n",
            "units_4: 32\n",
            "units_5: 416\n",
            "units_6: 224\n",
            "units_7: 512\n",
            "units_8: 288\n",
            "units_9: 448\n",
            "units_10: 352\n",
            "units_11: 416\n",
            "units_12: 32\n",
            "units_13: 416\n",
            "units_14: 288\n",
            "units_15: 448\n",
            "units_16: 448\n",
            "units_17: 128\n",
            "Score: 0.8793103496233622\n",
            "Trial summary\n",
            "Hyperparameters:\n",
            "num_layers: 13\n",
            "units_0: 352\n",
            "units_1: 320\n",
            "learning_rate: 0.0001\n",
            "units_2: 224\n",
            "units_3: 224\n",
            "units_4: 384\n",
            "units_5: 352\n",
            "units_6: 256\n",
            "units_7: 416\n",
            "units_8: 416\n",
            "units_9: 320\n",
            "units_10: 256\n",
            "units_11: 512\n",
            "units_12: 64\n",
            "units_13: 448\n",
            "units_14: 224\n",
            "units_15: 384\n",
            "units_16: 192\n",
            "Score: 0.8735632300376892\n",
            "Trial summary\n",
            "Hyperparameters:\n",
            "num_layers: 18\n",
            "units_0: 416\n",
            "units_1: 64\n",
            "learning_rate: 0.0001\n",
            "units_2: 416\n",
            "units_3: 384\n",
            "units_4: 96\n",
            "units_5: 384\n",
            "units_6: 320\n",
            "units_7: 352\n",
            "units_8: 352\n",
            "units_9: 448\n",
            "units_10: 512\n",
            "units_11: 128\n",
            "units_12: 160\n",
            "units_13: 320\n",
            "units_14: 352\n",
            "units_15: 192\n",
            "units_16: 64\n",
            "units_17: 32\n",
            "Score: 0.8735632300376892\n",
            "Trial summary\n",
            "Hyperparameters:\n",
            "num_layers: 15\n",
            "units_0: 224\n",
            "units_1: 96\n",
            "learning_rate: 0.001\n",
            "units_2: 128\n",
            "units_3: 64\n",
            "units_4: 288\n",
            "units_5: 32\n",
            "units_6: 96\n",
            "units_7: 288\n",
            "units_8: 224\n",
            "units_9: 352\n",
            "units_10: 448\n",
            "units_11: 128\n",
            "units_12: 64\n",
            "units_13: 448\n",
            "units_14: 480\n",
            "units_15: 256\n",
            "units_16: 256\n",
            "units_17: 480\n",
            "Score: 0.8678161104520162\n",
            "Trial summary\n",
            "Hyperparameters:\n",
            "num_layers: 10\n",
            "units_0: 64\n",
            "units_1: 160\n",
            "learning_rate: 0.001\n",
            "units_2: 288\n",
            "units_3: 320\n",
            "units_4: 160\n",
            "units_5: 224\n",
            "units_6: 224\n",
            "units_7: 448\n",
            "units_8: 160\n",
            "units_9: 192\n",
            "units_10: 96\n",
            "units_11: 96\n",
            "units_12: 448\n",
            "units_13: 352\n",
            "units_14: 480\n",
            "units_15: 96\n",
            "units_16: 320\n",
            "units_17: 224\n",
            "units_18: 64\n",
            "units_19: 32\n",
            "Score: 0.8390804727872213\n",
            "Trial summary\n",
            "Hyperparameters:\n",
            "num_layers: 15\n",
            "units_0: 128\n",
            "units_1: 320\n",
            "learning_rate: 0.0001\n",
            "units_2: 160\n",
            "units_3: 512\n",
            "units_4: 96\n",
            "units_5: 352\n",
            "units_6: 192\n",
            "units_7: 448\n",
            "units_8: 128\n",
            "units_9: 512\n",
            "units_10: 160\n",
            "units_11: 256\n",
            "units_12: 512\n",
            "units_13: 192\n",
            "units_14: 288\n",
            "units_15: 64\n",
            "units_16: 416\n",
            "units_17: 384\n",
            "units_18: 96\n",
            "units_19: 256\n",
            "Score: 0.8390804727872213\n",
            "Trial summary\n",
            "Hyperparameters:\n",
            "num_layers: 12\n",
            "units_0: 448\n",
            "units_1: 96\n",
            "learning_rate: 0.001\n",
            "units_2: 288\n",
            "units_3: 288\n",
            "units_4: 416\n",
            "units_5: 480\n",
            "units_6: 64\n",
            "units_7: 384\n",
            "units_8: 384\n",
            "units_9: 288\n",
            "units_10: 160\n",
            "units_11: 160\n",
            "units_12: 288\n",
            "units_13: 160\n",
            "units_14: 448\n",
            "units_15: 160\n",
            "units_16: 128\n",
            "units_17: 288\n",
            "Score: 0.8333333333333334\n",
            "Trial summary\n",
            "Hyperparameters:\n",
            "num_layers: 9\n",
            "units_0: 224\n",
            "units_1: 480\n",
            "learning_rate: 0.001\n",
            "units_2: 128\n",
            "units_3: 128\n",
            "units_4: 416\n",
            "units_5: 480\n",
            "units_6: 32\n",
            "units_7: 480\n",
            "units_8: 288\n",
            "units_9: 64\n",
            "units_10: 384\n",
            "units_11: 512\n",
            "units_12: 480\n",
            "units_13: 512\n",
            "units_14: 256\n",
            "units_15: 448\n",
            "units_16: 160\n",
            "units_17: 128\n",
            "units_18: 448\n",
            "units_19: 160\n",
            "Score: 0.8045977155367533\n",
            "Trial summary\n",
            "Hyperparameters:\n",
            "num_layers: 17\n",
            "units_0: 416\n",
            "units_1: 416\n",
            "learning_rate: 0.0001\n",
            "units_2: 128\n",
            "units_3: 128\n",
            "units_4: 416\n",
            "units_5: 288\n",
            "units_6: 128\n",
            "units_7: 320\n",
            "units_8: 320\n",
            "units_9: 192\n",
            "units_10: 160\n",
            "units_11: 480\n",
            "units_12: 448\n",
            "units_13: 384\n",
            "units_14: 32\n",
            "units_15: 32\n",
            "units_16: 160\n",
            "units_17: 96\n",
            "units_18: 96\n",
            "units_19: 96\n",
            "Score: 0.7873563170433044\n"
          ],
          "name": "stdout"
        }
      ]
    },
    {
      "cell_type": "code",
      "metadata": {
        "colab": {
          "base_uri": "https://localhost:8080/"
        },
        "id": "CAwLo53fYdDM",
        "outputId": "de046f30-fdea-40ae-f8c6-6d4abb0dfd0d"
      },
      "source": [
        "#tuner.search_space_summary()\n",
        "tuner.get_best_hyperparameters()"
      ],
      "execution_count": 47,
      "outputs": [
        {
          "output_type": "execute_result",
          "data": {
            "text/plain": [
              "[<keras_tuner.engine.hyperparameters.HyperParameters at 0x7f7ba568cd90>]"
            ]
          },
          "metadata": {
            "tags": []
          },
          "execution_count": 47
        }
      ]
    },
    {
      "cell_type": "code",
      "metadata": {
        "id": "aE-n-9FIYLxt"
      },
      "source": [
        "\n",
        "# Which was the best model?\n",
        "best_model = tuner.get_best_models()\n",
        "\n",
        "# What were the best hyperparameters?\n",
        "best_hyperparameters = tuner.get_best_hyperparameters() \n"
      ],
      "execution_count": 48,
      "outputs": []
    },
    {
      "cell_type": "code",
      "metadata": {
        "id": "2GyIHerejAyA"
      },
      "source": [
        "from keras_tuner import Hyperband\n",
        "\n",
        "\n",
        "bandtuner = Hyperband(\n",
        "    build_model,\n",
        "    max_epochs=HYPERBAND_MAX_EPOCHS,\n",
        "    objective='val_accuracy',\n",
        "    seed=SEED,\n",
        "    executions_per_trial=EXECUTION_PER_TRIAL\n",
        ")"
      ],
      "execution_count": 82,
      "outputs": []
    },
    {
      "cell_type": "code",
      "metadata": {
        "colab": {
          "base_uri": "https://localhost:8080/"
        },
        "id": "g5r481_LEHzh",
        "outputId": "78a7afef-ff03-40d3-a326-1140ac9672e1"
      },
      "source": [
        "bandtuner.search(X_train, Y_train_enc, epochs =5, batch_size=64, validation_data=(X_test, Y_test_enc))"
      ],
      "execution_count": 83,
      "outputs": [
        {
          "output_type": "stream",
          "text": [
            "Trial 90 Complete [00h 02m 07s]\n",
            "val_accuracy: 0.5229884882767996\n",
            "\n",
            "Best val_accuracy So Far: 0.982758641242981\n",
            "Total elapsed time: 00h 27m 35s\n",
            "INFO:tensorflow:Oracle triggered exit\n"
          ],
          "name": "stdout"
        }
      ]
    },
    {
      "cell_type": "code",
      "metadata": {
        "colab": {
          "base_uri": "https://localhost:8080/"
        },
        "id": "rPHflj7fNewb",
        "outputId": "465e0313-f044-4bf0-e4a2-345fdc9ff5cd"
      },
      "source": [
        "bandtuner.results_summary()"
      ],
      "execution_count": 95,
      "outputs": [
        {
          "output_type": "stream",
          "text": [
            "Results summary\n",
            "Results in ./untitled_project\n",
            "Showing 10 best trials\n",
            "Objective(name='val_accuracy', direction='max')\n",
            "Trial summary\n",
            "Hyperparameters:\n",
            "num_layers: 3\n",
            "units_0: 64\n",
            "units_1: 256\n",
            "learning_rate: 0.0001\n",
            "units_2: 256\n",
            "units_3: 480\n",
            "units_4: 320\n",
            "units_5: 64\n",
            "units_6: 320\n",
            "units_7: 32\n",
            "units_8: 64\n",
            "units_9: 384\n",
            "units_10: 256\n",
            "units_11: 416\n",
            "units_12: 160\n",
            "units_13: 384\n",
            "units_14: 448\n",
            "units_15: 96\n",
            "units_16: 64\n",
            "units_17: 480\n",
            "units_18: 352\n",
            "tuner/epochs: 40\n",
            "tuner/initial_epoch: 14\n",
            "tuner/bracket: 3\n",
            "tuner/round: 3\n",
            "tuner/trial_id: 6b79c07442d0c1858095cf16378c3c7b\n",
            "Score: 0.982758641242981\n",
            "Trial summary\n",
            "Hyperparameters:\n",
            "num_layers: 5\n",
            "units_0: 224\n",
            "units_1: 288\n",
            "learning_rate: 0.0001\n",
            "units_2: 320\n",
            "units_3: 288\n",
            "units_4: 256\n",
            "units_5: 352\n",
            "units_6: 192\n",
            "units_7: 416\n",
            "units_8: 352\n",
            "units_9: 448\n",
            "units_10: 352\n",
            "units_11: 288\n",
            "units_12: 192\n",
            "units_13: 96\n",
            "units_14: 192\n",
            "units_15: 288\n",
            "units_16: 160\n",
            "units_17: 64\n",
            "units_18: 384\n",
            "tuner/epochs: 40\n",
            "tuner/initial_epoch: 14\n",
            "tuner/bracket: 2\n",
            "tuner/round: 2\n",
            "tuner/trial_id: e89d0d7ef7b5b034c470a6f8c782d691\n",
            "Score: 0.982758641242981\n",
            "Trial summary\n",
            "Hyperparameters:\n",
            "num_layers: 7\n",
            "units_0: 512\n",
            "units_1: 320\n",
            "learning_rate: 0.0001\n",
            "units_2: 480\n",
            "units_3: 224\n",
            "units_4: 256\n",
            "units_5: 384\n",
            "units_6: 160\n",
            "units_7: 192\n",
            "units_8: 224\n",
            "units_9: 224\n",
            "units_10: 32\n",
            "units_11: 352\n",
            "units_12: 256\n",
            "units_13: 448\n",
            "units_14: 64\n",
            "units_15: 128\n",
            "units_16: 352\n",
            "units_17: 64\n",
            "units_18: 128\n",
            "tuner/epochs: 40\n",
            "tuner/initial_epoch: 14\n",
            "tuner/bracket: 2\n",
            "tuner/round: 2\n",
            "tuner/trial_id: 44ec8573351afdba1d8ae299feafab53\n",
            "Score: 0.982758641242981\n",
            "Trial summary\n",
            "Hyperparameters:\n",
            "num_layers: 2\n",
            "units_0: 64\n",
            "units_1: 288\n",
            "learning_rate: 0.0001\n",
            "units_2: 160\n",
            "units_3: 480\n",
            "units_4: 448\n",
            "units_5: 448\n",
            "units_6: 160\n",
            "units_7: 416\n",
            "units_8: 352\n",
            "units_9: 448\n",
            "units_10: 480\n",
            "units_11: 288\n",
            "units_12: 64\n",
            "units_13: 416\n",
            "units_14: 416\n",
            "units_15: 288\n",
            "units_16: 512\n",
            "units_17: 96\n",
            "units_18: 192\n",
            "tuner/epochs: 40\n",
            "tuner/initial_epoch: 0\n",
            "tuner/bracket: 0\n",
            "tuner/round: 0\n",
            "Score: 0.982758641242981\n",
            "Trial summary\n",
            "Hyperparameters:\n",
            "num_layers: 16\n",
            "units_0: 224\n",
            "units_1: 480\n",
            "learning_rate: 0.001\n",
            "units_2: 416\n",
            "units_3: 256\n",
            "units_4: 320\n",
            "units_5: 288\n",
            "units_6: 320\n",
            "units_7: 384\n",
            "units_8: 416\n",
            "units_9: 224\n",
            "units_10: 160\n",
            "units_11: 96\n",
            "units_12: 512\n",
            "units_13: 192\n",
            "units_14: 416\n",
            "units_15: 160\n",
            "units_16: 160\n",
            "units_17: 160\n",
            "units_18: 192\n",
            "tuner/epochs: 40\n",
            "tuner/initial_epoch: 0\n",
            "tuner/bracket: 0\n",
            "tuner/round: 0\n",
            "Score: 0.97126438220342\n",
            "Trial summary\n",
            "Hyperparameters:\n",
            "num_layers: 10\n",
            "units_0: 352\n",
            "units_1: 384\n",
            "learning_rate: 0.0001\n",
            "units_2: 416\n",
            "units_3: 384\n",
            "units_4: 352\n",
            "units_5: 288\n",
            "units_6: 96\n",
            "units_7: 160\n",
            "units_8: 416\n",
            "units_9: 64\n",
            "units_10: 64\n",
            "units_11: 224\n",
            "units_12: 352\n",
            "units_13: 320\n",
            "units_14: 192\n",
            "units_15: 128\n",
            "units_16: 448\n",
            "units_17: 128\n",
            "tuner/epochs: 40\n",
            "tuner/initial_epoch: 14\n",
            "tuner/bracket: 3\n",
            "tuner/round: 3\n",
            "tuner/trial_id: ddbc31cd8d28283d45c81697f3ca5d29\n",
            "Score: 0.9655172427495321\n",
            "Trial summary\n",
            "Hyperparameters:\n",
            "num_layers: 14\n",
            "units_0: 384\n",
            "units_1: 256\n",
            "learning_rate: 0.0001\n",
            "units_2: 64\n",
            "units_3: 352\n",
            "units_4: 160\n",
            "units_5: 128\n",
            "units_6: 352\n",
            "units_7: 416\n",
            "units_8: 160\n",
            "units_9: 160\n",
            "units_10: 448\n",
            "units_11: 384\n",
            "units_12: 64\n",
            "units_13: 64\n",
            "units_14: 352\n",
            "units_15: 480\n",
            "units_16: 384\n",
            "units_17: 416\n",
            "units_18: 96\n",
            "tuner/epochs: 40\n",
            "tuner/initial_epoch: 14\n",
            "tuner/bracket: 1\n",
            "tuner/round: 1\n",
            "tuner/trial_id: b08168af1f9363302e95a744078728fe\n",
            "Score: 0.9655172427495321\n",
            "Trial summary\n",
            "Hyperparameters:\n",
            "num_layers: 14\n",
            "units_0: 160\n",
            "units_1: 256\n",
            "learning_rate: 0.001\n",
            "units_2: 320\n",
            "units_3: 128\n",
            "units_4: 256\n",
            "units_5: 224\n",
            "units_6: 224\n",
            "units_7: 64\n",
            "units_8: 128\n",
            "units_9: 32\n",
            "units_10: 128\n",
            "units_11: 64\n",
            "units_12: 64\n",
            "units_13: 480\n",
            "units_14: 192\n",
            "units_15: 256\n",
            "units_16: 448\n",
            "units_17: 320\n",
            "units_18: 32\n",
            "tuner/epochs: 40\n",
            "tuner/initial_epoch: 14\n",
            "tuner/bracket: 1\n",
            "tuner/round: 1\n",
            "tuner/trial_id: 28acf3b83c780ba05929477fb6753ac4\n",
            "Score: 0.9655172427495321\n",
            "Trial summary\n",
            "Hyperparameters:\n",
            "num_layers: 18\n",
            "units_0: 352\n",
            "units_1: 96\n",
            "learning_rate: 0.0001\n",
            "units_2: 448\n",
            "units_3: 480\n",
            "units_4: 160\n",
            "units_5: 320\n",
            "units_6: 160\n",
            "units_7: 512\n",
            "units_8: 32\n",
            "units_9: 64\n",
            "units_10: 288\n",
            "units_11: 224\n",
            "units_12: 224\n",
            "units_13: 512\n",
            "units_14: 64\n",
            "units_15: 512\n",
            "units_16: 320\n",
            "units_17: 288\n",
            "units_18: 32\n",
            "tuner/epochs: 40\n",
            "tuner/initial_epoch: 14\n",
            "tuner/bracket: 1\n",
            "tuner/round: 1\n",
            "tuner/trial_id: cf7a8667cfa120cb4328434c954d8cf4\n",
            "Score: 0.959770123163859\n",
            "Trial summary\n",
            "Hyperparameters:\n",
            "num_layers: 5\n",
            "units_0: 224\n",
            "units_1: 288\n",
            "learning_rate: 0.0001\n",
            "units_2: 320\n",
            "units_3: 288\n",
            "units_4: 256\n",
            "units_5: 352\n",
            "units_6: 192\n",
            "units_7: 416\n",
            "units_8: 352\n",
            "units_9: 448\n",
            "units_10: 352\n",
            "units_11: 288\n",
            "units_12: 192\n",
            "units_13: 96\n",
            "units_14: 192\n",
            "units_15: 288\n",
            "units_16: 160\n",
            "units_17: 64\n",
            "units_18: 384\n",
            "tuner/epochs: 14\n",
            "tuner/initial_epoch: 5\n",
            "tuner/bracket: 2\n",
            "tuner/round: 1\n",
            "tuner/trial_id: f0575a96967c34f4428d6a08260c5372\n",
            "Score: 0.9425287445386251\n"
          ],
          "name": "stdout"
        }
      ]
    },
    {
      "cell_type": "code",
      "metadata": {
        "id": "QlTh57Lyb7lL"
      },
      "source": [
        "#display(Y_train)"
      ],
      "execution_count": null,
      "outputs": []
    },
    {
      "cell_type": "code",
      "metadata": {
        "id": "xX8Mc1gqtGEB"
      },
      "source": [
        ""
      ],
      "execution_count": null,
      "outputs": []
    },
    {
      "cell_type": "code",
      "metadata": {
        "id": "PqrLGthH09dM"
      },
      "source": [
        ""
      ],
      "execution_count": null,
      "outputs": []
    }
  ]
}